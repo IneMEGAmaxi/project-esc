{
 "cells": [
  {
   "cell_type": "markdown",
   "metadata": {},
   "source": [
    "# Vasp Tutorial 1 - Input & Output files\n",
    "##### Levi Slap - april 2019"
   ]
  },
  {
   "cell_type": "markdown",
   "metadata": {},
   "source": [
    "## Introduction\n",
    "In this tutorial we will give a general overvieuw of all the files needed and created to/by run the VASP software. "
   ]
  },
  {
   "cell_type": "markdown",
   "metadata": {},
   "source": [
    "## Input files\n",
    "For the most basic calculations there are 4 files required: POSCAR, POTCAR, KPOINTS and INCAR. The files given in this tutorial are not connected, do not solve a single problem, they are just used as an example. "
   ]
  },
  {
   "cell_type": "markdown",
   "metadata": {},
   "source": [
    "### POSCAR\n",
    "VASP is a software package to do calculations of manly bulk materials. This is because VASP uses periodic boundary conditions which will expand a single unti cell to a bulk material during calculations. \n",
    "\n",
    "You can manipulated the POSCAR file in such a way that you can look at single atoms or surfaces but these will not be covered in the tutorials.\n",
    "\n",
    "The POSCAR file contains all the nessecary info to build the unit cell, lattice geometry\n",
    "and the ionic positions of your structure. \n",
    "\n",
    "```\n",
    "MnO3                            # This line is treated as comment\n",
    "   1.000                        # This is a scaling parameter. All latice parameters are multiplied by it.\n",
    "     5.0607   -0.057    0.000   # Unit vector a\n",
    "    -2.5739    4.357    0.000   # Unit vector b\n",
    "     0.0000    0.000    4.577   # Unit vector c\n",
    "   Mn   O                       # Types of elements in your cell\n",
    "     2     6                    # Number of atoms in you cell, here 2 Mn and 6 O\n",
    "Direct                          # Types of coordinates\n",
    "  0.164  0.835  0.000           # Positions of each element in the cell\n",
    "  0.835  0.164  0.000\n",
    "  0.749  0.749  0.248\n",
    "  0.250  0.250  0.751\n",
    "  0.025  0.385  0.238\n",
    "  0.614  0.974  0.761\n",
    "  0.974  0.614  0.761\n",
    "  0.385  0.025  0.238\n",
    "```"
   ]
  },
  {
   "cell_type": "markdown",
   "metadata": {},
   "source": [
    "### POTCAR\n",
    "A POTCAR file contains al the necessary information for the pseudopotential method. If you want to do calculations on a structure with multiple elements you need to concatenate (paste\n",
    "together) the different POTCAR files. You can do this with the Linux command: 'cat Example1 Example2 > ExampleTEST', here the files Example1 and Exaple2 are pasted together to form ExampleTEST. \n",
    "\n",
    "VASP contains a full libary of all elements, ask your supervisor where to find these."
   ]
  },
  {
   "cell_type": "markdown",
   "metadata": {},
   "source": [
    "### KPOINTS\n",
    "In the KPOINTS file you have to define how many k-points you will sample to define\n",
    "your Brillouin zone. \n",
    "\n",
    "```\n",
    "K-points                        # The first line is treated as comment\n",
    " 0                              # Number of kpoints. 0 equals automatic generate scheme\n",
    "Monkhorst Pack                  # Monkhorst Pack scheme\n",
    " 11 11 11                       # Number of kpoints in each direction\n",
    " 0 0 0                          # Centered around the Gamma point\n",
    "```"
   ]
  },
  {
   "cell_type": "markdown",
   "metadata": {},
   "source": [
    "### INCAR\n",
    "In the INCAR you will have to specify all the parameters for your calculation. VASP has a lot of parameters that can be tuned, they can all be found on the VASP Wiki:\n",
    "https://cms.mpi.univie.ac.at/wiki/index.php/The_VASP_Manual."
   ]
  },
  {
   "cell_type": "markdown",
   "metadata": {},
   "source": [
    "We will discuss a few important once:\n",
    "- `ENCUT` = the amount of plane waves you consider, a good estimate can be found in the POTCAR file\n",
    "- `EDIFF` = conversion criteria for stopping the Kohn-Sham method.\n",
    "- `ISMEAR` = for insulators and semiconductors use 0 or -5\n",
    "- `SIGMA` = for insulators and semiconductors use 0.05\n",
    "    \n",
    "```   \n",
    "# General Setup\n",
    "  System = fcc\n",
    "  ENCUT = 240\n",
    "\n",
    "# Electronic Relaxation (SCF)\n",
    "  EDIFF = 1e-06\n",
    "  ISMEAR = 0\n",
    "  SIGMA = 0.05\n",
    "```"
   ]
  },
  {
   "cell_type": "markdown",
   "metadata": {},
   "source": [
    "## Output"
   ]
  },
  {
   "cell_type": "markdown",
   "metadata": {},
   "source": [
    "VASP generates large quantities of output. We will discuss a few in this tutorial and some in the following ones. "
   ]
  },
  {
   "cell_type": "markdown",
   "metadata": {},
   "source": [
    "### OUTCAR\n",
    "The OUTCAR file contains a lot of information. You can very the amount of output in the OUTCAR file by modifing the NWRITE term in the INCAR file. A few examples of information you can find in the OUTCAR file are:\n",
    "-  Magnetic moments of the elements\n",
    "- All input tags used\n",
    "- CPU time for each calculation step in SCF cycle\n",
    "- Forces/Stresses\n",
    "- Dielectric proporties\n",
    "- K-points occupancies"
   ]
  },
  {
   "cell_type": "markdown",
   "metadata": {},
   "source": [
    "### OSZICAR\n",
    "The OSZICAR file contains the following information:\n",
    "- N is the number of electronic steps\n",
    "- E the current free energy\n",
    "- dE the change in the free energy from the last to the current step \n",
    "- d eps the change in the bandstructure energy\n",
    "- ncg is the number of evaluations of the Hamiltonian acting on a wavefunction\n",
    "- rms is the norm of the residuum ( ) of the trial wave functions (i.e. their approximate error)\n",
    "- rms(c) is the difference between input and output charge density.\n",
    "\n",
    "Each line is a electronic step, the Kohn-Sham SCF method. During a calculation the last collumn (rms(c)) should allways be decending, if not there might be a problem with your calculation. On line 9 one can see that the dE is smaller then EDIFF, from this point the required accuracy has been reach and the calculations stops. \n",
    "\n",
    "```\n",
    "       N       E                     dE             d eps       ncg     rms          rms(c)\n",
    "DAV:   1    -0.546226698186E+01   -0.54623E+01   -0.11362E+02  3220   0.819E+00    0.772E+00\n",
    "DAV:   2    -0.310336401651E+01    0.23589E+01   -0.21641E+00  3528   0.169E+00    0.472E+00\n",
    "DAV:   3    -0.210388472666E+01    0.99948E+00   -0.31750E+00  3724   0.167E+00    0.902E-01\n",
    "DAV:   4    -0.210883659420E+01   -0.49519E-02   -0.63881E-03  3276   0.126E-01    0.453E-01\n",
    "DAV:   5    -0.211458929809E+01   -0.57527E-02   -0.66303E-03  4452   0.103E-01    0.103E-01\n",
    "DAV:   6    -0.211520672655E+01   -0.61743E-03   -0.80611E-04  4172   0.317E-02    0.368E-02\n",
    "DAV:   7    -0.211527708107E+01   -0.70355E-04   -0.21471E-04  4368   0.136E-02    0.764E-03\n",
    "DAV:   8    -0.211528390797E+01   -0.68269E-05   -0.19379E-05  3920   0.495E-03    0.395E-03\n",
    "DAV:   9    -0.211528425651E+01   -0.34854E-06   -0.36688E-07  3920   0.720E-04\n",
    "   1 F= -.21152843E+01 E0= -.21097680E+01  d E =-.211528E+01\n",
    "```"
   ]
  }
 ],
 "metadata": {
  "kernelspec": {
   "display_name": "Python 3",
   "language": "python",
   "name": "python3"
  },
  "language_info": {
   "codemirror_mode": {
    "name": "ipython",
    "version": 3
   },
   "file_extension": ".py",
   "mimetype": "text/x-python",
   "name": "python",
   "nbconvert_exporter": "python",
   "pygments_lexer": "ipython3",
   "version": "3.7.2"
  }
 },
 "nbformat": 4,
 "nbformat_minor": 2
}
