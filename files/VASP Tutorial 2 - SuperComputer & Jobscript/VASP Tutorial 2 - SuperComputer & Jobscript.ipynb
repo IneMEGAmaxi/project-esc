{
 "cells": [
  {
   "cell_type": "markdown",
   "metadata": {},
   "source": [
    "# VASP Tutorial 2 - SuperComputer & Jobscript\n",
    "\n",
    "Levi Slap - april 2019\n",
    "\n",
    "edited by Ine Arts 2020"
   ]
  },
  {
   "cell_type": "markdown",
   "metadata": {},
   "source": [
    "## Introduction\n",
    "In this tutorial we will give a general overview of the SuperComputer that we will be using and the jobscript needed to do a calculation. "
   ]
  },
  {
   "cell_type": "markdown",
   "metadata": {},
   "source": [
    "## Working with a SuperComputer\n",
    "This document will give a general overview, more info can be found on the <a href=\"https://vlaams-supercomputing-centrum-vscdocumentation.readthedocs-hosted.com/en/latest/\" link> VSC documentation </a>. For the rest of the tutorial you will need to be loged in, on Windows this can be done using PuTTY."
   ]
  },
  {
   "cell_type": "markdown",
   "metadata": {},
   "source": [
    "### Architecture\n",
    "The SuperComputer has a specific architecture which is depicted in figure 1. \n",
    "You connect to the login-nodes, from which you can execute lightweight operations and have access to the file system. When you start a computation job, it will be executed by 1 or more computing-nodes.\n",
    "\n",
    "The file systems consists of three parts: HOME, DATA and SCRATCH.\n",
    "- HOME = small files that need to be opened and read often (mostly for configuration files)\n",
    "- DATA = long-term storage, large files\n",
    "- SCRATCH = your <b>workspace</b>, short-term storage\n",
    "\n",
    "For all the calculations you will have to navigate to the scratch directory. This can be done by\n",
    "typing `cd /scratch/antwerpen/20#/vsc20###`, with the `#` replaced by your personal\n",
    "numbers or by using the environment variable $VSC_SCRATCH: `cd $VSC_SCRATCH`"
   ]
  },
  {
   "cell_type": "markdown",
   "metadata": {},
   "source": [
    "<div style=\"text-align: center\">\n",
    "    <img src=\"./VASP Tutorial 2 - SuperComputer & Jobscript/Architecture.png\" width=700> <br>\n",
    "    Figure 1: The architecture of the SuperComputer\n",
    "</div>"
   ]
  },
  {
   "cell_type": "markdown",
   "metadata": {},
   "source": [
    "### Jobscript\n",
    "To start any calculation we will need a job script which tells the SuperComputer how many nodes to select and how long to run the job."
   ]
  },
  {
   "cell_type": "markdown",
   "metadata": {},
   "source": [
    "We will be using the following jobscript during these tutorials. \n",
    "```\n",
    "#!/bin/bash\n",
    "#PBS -N Test_Name  \n",
    "#PBS -l nodes=4:ppn=28\n",
    "#PBS -l walltime=72:00:00\n",
    "\n",
    "module load VASP/5.4.4-intel-2018a\n",
    "export I_MPI_COMPATIBILITY=4\n",
    "\n",
    "cd $PBS_O_WORKDIR\n",
    "\n",
    "echo \"Job started:\" /bin/date >> out\n",
    "mpirun vasp_std >> out\n",
    "echo \"Job finished:\" /bin/date >> out\n",
    "\n",
    "grep Elapsed OUTCAR >> out`\n",
    "```\n",
    "- You can change the second line: *Test_Name* can be modified. \n",
    "- On the 3rd line you can modify the number of nodes. \n",
    "- On the 4th line you can change the walltime. \n",
    "- line 6 can become outdated when new VASP versions are installed on the cluster. You can check the available modules on the cluster by typing `module avail vasp` in the terminal.\n"
   ]
  },
  {
   "cell_type": "markdown",
   "metadata": {},
   "source": [
    "## Your first calculation\n",
    "Now you are ready to perform your first calculations. Navigate to your scratch directory.\n",
    "Make a directory scf (command: `mkdir scf`) and go into this directory (command:\n",
    "`cd scf`). Using WINSCP copy <a href=\"./VASP Tutorial 2 - SuperComputer & Jobscript/input/INPUT.zip\" download> these </a>input files into this directory.\n",
    "Then use the command: `qsub job_script` to submit the job.\n",
    "\n",
    "Congratulations you have submitted your first job!"
   ]
  },
  {
   "cell_type": "markdown",
   "metadata": {},
   "source": [
    "### Queuing\n",
    "Not all calculations can run at the same time, so most probably your job request will be queuing. Type in `qstat` and you will see all the jobs that you have submitted. You can see the job ID, name, user, Time Use, S (=status, Q=queuing, R=running and C=completed) and the last column is in which queue your calculating is waiting. There are 3 queues: 1h, 24h and 72h, depending on the walltime you defined in your jobscript. (_if really needed there exists a possibility for 7-day jobs, contact your supervisor_)\n",
    "\n",
    "Now you will have to wait until your job starts running and is eventually finished."
   ]
  },
  {
   "cell_type": "markdown",
   "metadata": {},
   "source": [
    "### Walltime\n",
    "If your calculation takes longer than the planned walltime you will be notified via email and your job will be terminated. Afterwards you can re-submit the job with a larger walltime if possible or else different input parameters so that the calculation runs faster.\n",
    "Over time you will create a feeling for how long your job will need to finish."
   ]
  },
  {
   "cell_type": "code",
   "execution_count": null,
   "metadata": {},
   "outputs": [],
   "source": []
  }
 ],
 "metadata": {
  "kernelspec": {
   "display_name": "Python 3",
   "language": "python",
   "name": "python3"
  },
  "language_info": {
   "codemirror_mode": {
    "name": "ipython",
    "version": 3
   },
   "file_extension": ".py",
   "mimetype": "text/x-python",
   "name": "python",
   "nbconvert_exporter": "python",
   "pygments_lexer": "ipython3",
   "version": "3.7.7"
  }
 },
 "nbformat": 4,
 "nbformat_minor": 4
}
