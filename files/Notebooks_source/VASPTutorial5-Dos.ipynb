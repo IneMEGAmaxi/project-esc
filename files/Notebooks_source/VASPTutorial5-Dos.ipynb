{
 "cells": [
  {
   "cell_type": "markdown",
   "metadata": {},
   "source": [
    "# VASP Tutorial 5 - DOS\n",
    "##### Levi Slap - april 2019"
   ]
  },
  {
   "cell_type": "markdown",
   "metadata": {},
   "source": [
    "## Introduction\n",
    "In this tutorial we will calculate the density of states (DOS) of Silicon. "
   ]
  },
  {
   "cell_type": "markdown",
   "metadata": {},
   "source": [
    "## SCF\n",
    "Use the following <a href=\"./input_realSi/DOS/Input.zip\" download> input files </a> to do an SCF calculation. For this make a new directory `mkdir scf1`.\n",
    "\n",
    "You will see that the POSCAR is a little different; this is the real silicon structure. (try to visualise it using the VESTA software)"
   ]
  },
  {
   "cell_type": "markdown",
   "metadata": {},
   "source": [
    "## DOS\n",
    "After the SCF calculation make a new directory `dos`. Copy the POSCAR, POTCAR, KPOINTS, INCAR, job_script and CHGCAR from `scf1` into `dos`. This way we start from an already converged density which was calculated with a small(er) amount of kpoints.\n",
    "We will need to make some changes to the input files. \n",
    "- INCAR: add ICHARG=11      -->  initial charge density (read from the CHGCAR that you copied) will not be altered\n",
    "- INCAR: change ISMEAR = 0 to -5            -->  tetrahedron method for preciser integration of the BZ\n",
    "- Kpoints: change 11 11 11 in 22 22 22      -->  more k-points allow for a preciser integration of the BZ\n",
    "\n",
    "Now submit the calculation. "
   ]
  },
  {
   "cell_type": "markdown",
   "metadata": {},
   "source": [
    "## Visualisation\n",
    "We provided some <a href=\"./Matlab/readDOS_Si.m\" download> Matlab scripts  </a> to visualize the DOS of Si. Download the DOSCAR file using WINSCP and use the script. You will have to tweak the script if you want to visualise other DOS for different elements."
   ]
  },
  {
   "cell_type": "markdown",
   "metadata": {},
   "source": [
    "<div style=\"text-align: center\">\n",
    "    <img src=\"./Notebooks_source/DOS_realSi.png\" width=700> <br>\n",
    "    Figure 1: The DOS of diamond Si.\n",
    "</div>"
   ]
  },
  {
   "cell_type": "markdown",
   "metadata": {},
   "source": [
    "## Interpretation\n",
    "As you probably know, silicon is a semiconductor. This also follows from our calculation, because we see no states around the Fermi level (0 eV). \n",
    "\n",
    "As an exercise you can compute the density of states for the simple silicon structure and compare the two.\n"
   ]
  },
  {
   "cell_type": "code",
   "execution_count": null,
   "metadata": {},
   "outputs": [],
   "source": []
  }
 ],
 "metadata": {
  "kernelspec": {
   "display_name": "Python 3",
   "language": "python",
   "name": "python3"
  },
  "language_info": {
   "codemirror_mode": {
    "name": "ipython",
    "version": 3
   },
   "file_extension": ".py",
   "mimetype": "text/x-python",
   "name": "python",
   "nbconvert_exporter": "python",
   "pygments_lexer": "ipython3",
   "version": "3.7.3"
  }
 },
 "nbformat": 4,
 "nbformat_minor": 4
}
