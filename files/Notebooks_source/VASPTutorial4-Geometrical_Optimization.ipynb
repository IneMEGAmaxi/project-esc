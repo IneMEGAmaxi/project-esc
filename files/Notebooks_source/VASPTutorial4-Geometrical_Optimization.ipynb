{
 "cells": [
  {
   "cell_type": "markdown",
   "metadata": {},
   "source": [
    "# VASP Tutorial 4 - Geometrical Optimization\n",
    "#### Levi Slap - april 2019\n",
    "edits by Ine Arts 2020"
   ]
  },
  {
   "cell_type": "markdown",
   "metadata": {},
   "source": [
    "## Introduction \n",
    "In this tutorial we will perform a geometrical optimization (also called relaxation), this means that the lattice parameters and the position of the elements are optimized to get the lowest energy for the system.\n",
    "There are now two types of iterations: In the outer loop (also called ionic steps) the positions and lattice wil be varied. And the inner loops (the electronic steps) are always regular SCF calculations."
   ]
  },
  {
   "cell_type": "markdown",
   "metadata": {},
   "source": [
    "## Input files\n",
    "The input files will be fairly similar to the SCF case except for the INCAR file. We will introduce a few more tags:\n",
    "- NELMIN = minimal number of electronic steps\n",
    "- NELM = maximum number of electronic steps\n",
    "- EDIFFG = If the change in the total (free) energy is smaller than EDIFFG between two ionic steps relaxation will be stopped.\n",
    "- IBRION = the algorithm for how the lattice and atom positions are relaxed: for a geometrical optimization we use the conjugate gradient algorithm (IBRION = 2)\n",
    "- ISIF = which of the following is/are allowed to change in between the ionic steps: positions, cell shape and cell volume (ISIF = 3 is all of them)\n",
    "- NSW = maximum number of ionic steps\n",
    "\n",
    "you are encouraged to look up these tags in the <a href=\"https://www.vasp.at/wiki/index.php/The_VASP_Manual\" link> VASP manual</a>, to check their default behaviour and other possible values."
   ]
  },
  {
   "cell_type": "markdown",
   "metadata": {},
   "source": [
    "```\n",
    "# General Setup\n",
    "  System = fcc Si\n",
    "  ENCUT = 240\n",
    "\n",
    "# Electronic Relaxation (SCF)\n",
    "  EDIFF = 1e-06\n",
    "  NELMIN = 5\n",
    "  NELM = 60\n",
    "\n",
    "# Ionic Relaxation\n",
    "  EDIFFG = 0.001\n",
    "  IBRION = 2\n",
    "  ISIF = 3\n",
    "  ISMEAR = 0\n",
    "  NSW = 25\n",
    "  SIGMA = 0.10\n",
    "```"
   ]
  },
  {
   "cell_type": "markdown",
   "metadata": {},
   "source": [
    "Now use the following <a href=\"./input_simpleSi/Geometrical_Optimization/Input.zip\" download> input files </a> and start the calculation. Make a new directory *relax* (`mkdir relax`) for these input files. "
   ]
  },
  {
   "cell_type": "markdown",
   "metadata": {},
   "source": [
    "## Output files\n",
    "The *out* file will look like this:\n",
    "```\n",
    "       N       E                     dE             d eps       ncg     rms          rms(c)\n",
    "DAV:   1    -0.546226698186E+01   -0.54623E+01   -0.11362E+02  3220   0.819E+00    0.772E+00\n",
    "DAV:   2    -0.310336401651E+01    0.23589E+01   -0.21641E+00  3528   0.169E+00    0.472E+00\n",
    "DAV:   3    -0.210388472666E+01    0.99948E+00   -0.31750E+00  3724   0.167E+00    0.902E-01\n",
    "DAV:   4    -0.210883659420E+01   -0.49519E-02   -0.63881E-03  3276   0.126E-01    0.453E-01\n",
    "DAV:   5    -0.211458929809E+01   -0.57527E-02   -0.66303E-03  4452   0.103E-01    0.103E-01\n",
    "DAV:   6    -0.211520672655E+01   -0.61743E-03   -0.80611E-04  4172   0.317E-02    0.368E-02\n",
    "DAV:   7    -0.211527708107E+01   -0.70355E-04   -0.21471E-04  4368   0.136E-02    0.764E-03\n",
    "DAV:   8    -0.211528390797E+01   -0.68269E-05   -0.19379E-05  3920   0.495E-03    0.395E-03\n",
    "DAV:   9    -0.211528425651E+01   -0.34854E-06   -0.36688E-07  3920   0.720E-04\n",
    "   1 F= -.21152843E+01 E0= -.21097680E+01  d E =-.211528E+01\n",
    " curvature:   0.00 expect dE= 0.000E+00 dE for cont linesearch  0.000E+00\n",
    " trial: gam= 0.00000 g(F)=  0.317E-63 g(S)=  0.805E+00 ort = 0.000E+00 (trialstep = 0.100E+01)\n",
    " search vector abs. value=  0.805E+00\n",
    " bond charge predicted\n",
    "       N       E                     dE             d eps       ncg     rms          rms(c)\n",
    "DAV:   1    -0.376852276725E+01   -0.16532E+01   -0.24011E+01  3304   0.530E+00    0.370E+00\n",
    "DAV:   2    -0.327694710784E+01    0.49158E+00   -0.35092E-01  3416   0.584E-01    0.181E+00\n",
    "DAV:   3    -0.304729820198E+01    0.22965E+00   -0.50856E-01  3444   0.653E-01    0.935E-01\n",
    "DAV:   4    -0.304540463618E+01    0.18936E-02   -0.14364E-03  3472   0.638E-02    0.173E-01\n",
    "DAV:   5    -0.304544799948E+01   -0.43363E-04   -0.88506E-05  4620   0.148E-02    0.106E-02\n",
    "DAV:   6    -0.304547347311E+01   -0.25474E-04   -0.46594E-05  3752   0.828E-03    0.330E-03\n",
    "DAV:   7    -0.304547368246E+01   -0.20935E-06   -0.40682E-07  4396   0.813E-04\n",
    "   2 F= -.30454737E+01 E0= -.30416073E+01  d E =-.930189E+00\n",
    " trial-energy change:   -0.930189  1 .order   -0.868683   -0.804710   -0.932656\n",
    " step:   2.2963(harm=  4.0000)  dis= 0.00000  next Energy=    -3.783952 (dE=-0.167E+01)\n",
    " bond charge predicte`\n",
    "```\n",
    "\n",
    "We can see a number of electronic steps. EDIFF is reached and then a new block were the position of the elements have been changed. After a number of steps the EDIFFG will be reached and the positions of the elements will be saved into the CONTCAR file. The CONTCAR file contains the geometrical optimized structure."
   ]
  },
  {
   "cell_type": "code",
   "execution_count": null,
   "metadata": {},
   "outputs": [],
   "source": []
  }
 ],
 "metadata": {
  "kernelspec": {
   "display_name": "Python 3",
   "language": "python",
   "name": "python3"
  },
  "language_info": {
   "codemirror_mode": {
    "name": "ipython",
    "version": 3
   },
   "file_extension": ".py",
   "mimetype": "text/x-python",
   "name": "python",
   "nbconvert_exporter": "python",
   "pygments_lexer": "ipython3",
   "version": "3.7.3"
  }
 },
 "nbformat": 4,
 "nbformat_minor": 4
}
