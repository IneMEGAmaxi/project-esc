{
 "cells": [
  {
   "cell_type": "markdown",
   "metadata": {},
   "source": [
    "# Setup your computer for VASP-calculation\n",
    "\n",
    "Levi Slap - april 2019\n",
    "\n",
    "edited by Ine Arts 2020"
   ]
  },
  {
   "cell_type": "markdown",
   "metadata": {},
   "source": [
    "## Introduction\n",
    "Before you can start with calculation using the VASP-package you will need to setup your\n",
    "computer and apply for an account to be able to calculate on the Flemish SuperComputers.\n",
    "This document will give some guidelines. This document is writen for the Windows\n",
    "user, Mac and Linux user can skip most of the steps. To complete the steps in this\n",
    "document a internet connection is required and it should take between 1 and 2h."
   ]
  },
  {
   "cell_type": "markdown",
   "metadata": {},
   "source": [
    "## VSC account - Putty - WinSCP\n",
    "You will need to apply for a VSC account. <a href=\"https://www.vscentrum.be/user-portal\" link> This</a> is the user portal of the Flemish Supercomputer centre, which links to the documentation and the account pages.\n",
    "\n",
    "1. To request the account, you can follow <a href=\"https://vlaams-supercomputing-centrum-vscdocumentation.readthedocs-hosted.com/en/latest/access/getting_access.html\" link> this guide</a> from the VSC documentation page.\n",
    "\n",
    "We recommend the option using <a href=\"https://www.putty.org/\" link> _PuTTY_</a> (for Windows users) to generate an rsa key pair and to connect to the supercomputer later. You store the private key on your local computer, protected with a passphrase and upload the public one to the VSC account.\n",
    "\n",
    "-------\n",
    "##### <b>What is PuTTY?</b>\n",
    "PuTTY is an ssh-client for Windows. The connection to the supercomputer happens over a secure connection called ssh (<b>s</b>ecure <b>sh</b>ell), using the rsa keys to encrypt all transfered data. For this a client is used. On Linux and Mac the _OpenSSH_-client is included by default and can be used with the `ssh` command in the terminal. For Windows _OpenSSH_ is not available, instead _PuTTY_ is the most popular option. (_Ofcourse you can use any ssh-client or even a virtual machine to emulate a Linux operating system, but we recommend this for beginners._)\n",
    "\n",
    "------\n",
    "\n",
    "After you have run through all the steps on the VSC documentation pages, you'll have recieved a confirmation mail that the account has been approved and created. It might take 15-30min for your public key to be ready for you to log in.\n",
    "\n",
    "2. Configure PuTTY to connect to the cluster: <a href=\"https://vlaams-supercomputing-centrum-vscdocumentation.readthedocs-hosted.com/en/latest/access/text_mode_access_using_putty.html#text-mode-access-using-putty\" link> VSC documentation</a>. The hostname for the tier-2 cluster in Antwerp is: *login-leibniz.hpc.uantwerpen.be*\n",
    "\n",
    "3. To be able to access the VASP software you will need to join the *avasp* group, as well as *aematcmt*. You can do this via the VSC account page.\n",
    "\n",
    "A downside to using PuTTY is that you can't easily transfer files between your local computer and the supercomputer. <a href=\"https://winscp.net/eng/download.php\" link> _WinSCP_</a> (Windows secure copy) solves this problem. This client offers a graphical user interface (GUI) for file transfer. \n",
    "\n",
    "4. install and configure WinSCP. It should be able to detect and use a saved PuTTY configuration. If not: the <a href=\"https://vlaams-supercomputing-centrum-vscdocumentation.readthedocs-hosted.com/en/latest/access/data_transfer_using_winscp.html#winscp\" link> VSC documentation</a> will help you. \n",
    "\n"
   ]
  },
  {
   "cell_type": "markdown",
   "metadata": {},
   "source": [
    "## Linux\n",
    "The VSC servers run on Linux. To navigate you will need a basic understanding of Linux.\n",
    "The following link can be a good start: http://linuxcommand.org/lc3_learning_the_shell.php ."
   ]
  },
  {
   "cell_type": "markdown",
   "metadata": {},
   "source": [
    "## VPN \n",
    "To access the SuperComputers when you are abroad, you will have to\n",
    "setup a VPN connection to the UA-network. More info can be found <a href=\"https://www.uantwerpen.be/en/library/search-help/useful-information/remote-access/\" link> here</a>. (The VPN is also usefull to access sci-hub from home.)\n"
   ]
  },
  {
   "cell_type": "markdown",
   "metadata": {},
   "source": [
    "## VESTA\n",
    "VASP is a software package to do calculations on solid state structures. To visualize the structures VESTA can be used. http://www.jp-minerals.org/vesta/en/\n"
   ]
  }
 ],
 "metadata": {
  "kernelspec": {
   "display_name": "Python 3",
   "language": "python",
   "name": "python3"
  },
  "language_info": {
   "codemirror_mode": {
    "name": "ipython",
    "version": 3
   },
   "file_extension": ".py",
   "mimetype": "text/x-python",
   "name": "python",
   "nbconvert_exporter": "python",
   "pygments_lexer": "ipython3",
   "version": "3.7.3"
  }
 },
 "nbformat": 4,
 "nbformat_minor": 4
}
