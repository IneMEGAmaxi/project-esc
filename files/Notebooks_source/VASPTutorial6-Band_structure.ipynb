{
 "cells": [
  {
   "cell_type": "markdown",
   "metadata": {},
   "source": [
    "# VASP Tutorial 6 - Band structure\n",
    "##### Levi Slap - april 2019"
   ]
  },
  {
   "cell_type": "markdown",
   "metadata": {},
   "source": [
    "## Introduction\n",
    "In this tutorial we will calculate the Band Structure of silicon. "
   ]
  },
  {
   "cell_type": "markdown",
   "metadata": {},
   "source": [
    "## Band Structure\n",
    "We will use the output/input from the directory `scf1`. Make a new directory `band`and copy the POSCAR, POTCAR, KPOINTS, INCAR, job_script and CHGCAR from `scf1` into `band`.\n",
    "We will need to make some changes to the input files. \n",
    "- INCAR: add ICHARG=11\n"
   ]
  },
  {
   "cell_type": "markdown",
   "metadata": {},
   "source": [
    "- And the KPOINTS file:\n",
    "\n",
    "```\n",
    "kpoints for bandstructure L-Gamma-X-U K-Gamma\n",
    "10\n",
    "line\n",
    "reciprocal\n",
    "0.50000 0.50000 0.50000 1 #L\n",
    "0.00000 0.00000 0.00000 1 #Gamma\n",
    "\n",
    "0.00000 0.00000 0.00000 1 #Gamma\n",
    "0.00000 0.50000 0.50000 1 #X\n",
    "\n",
    "0.00000 0.50000 0.50000 1 #X\n",
    "0.25000 0.62500 0.62500 1 #U\n",
    "\n",
    "0.37500 0.75000 0.37500 1 #K\n",
    "0.00000 0.00000 0.00000 1 #Gamma\n",
    "```\n",
    "This wil generate 10 k-points along each line between the defined points. The chosen path is the standard path for this shape of BZ.\n",
    "\n",
    "Now start the calculation. "
   ]
  },
  {
   "cell_type": "markdown",
   "metadata": {},
   "source": [
    "## Visualisation\n",
    "We provided some <a href=\"./Matlab/Matlab.zip\" download> Matlab scripts </a> to visualize the Band Structure of Si. Download the EIGENVAL file using WINSCP and use the script *Bandstructure_Si.m*. You will have to tweak the script if you want to viualise other Band Structures for different elements."
   ]
  },
  {
   "cell_type": "markdown",
   "metadata": {},
   "source": [
    "<div style=\"text-align: center\">\n",
    "    <img src=\"./Notebooks_source/Band_Structure_realSi.png\" width=700> <br>\n",
    "    Figure 1: The Band Structure of Silicon.\n",
    "</div>"
   ]
  },
  {
   "cell_type": "markdown",
   "metadata": {},
   "source": [
    "## Interpretation\n",
    "You can clearly see the indirect bandgap in the above Band Structure. This means that the lowest point of the conduction band (unoccupied bands) and the highest point of the valence band are not at the same k-point. \n",
    "\n",
    "The optical gap is the smallest difference between valence and conduction band at the same k-point. (vertical line in this plot)"
   ]
  },
  {
   "cell_type": "code",
   "execution_count": null,
   "metadata": {},
   "outputs": [],
   "source": []
  }
 ],
 "metadata": {
  "kernelspec": {
   "display_name": "Python 3",
   "language": "python",
   "name": "python3"
  },
  "language_info": {
   "codemirror_mode": {
    "name": "ipython",
    "version": 3
   },
   "file_extension": ".py",
   "mimetype": "text/x-python",
   "name": "python",
   "nbconvert_exporter": "python",
   "pygments_lexer": "ipython3",
   "version": "3.7.3"
  }
 },
 "nbformat": 4,
 "nbformat_minor": 4
}
