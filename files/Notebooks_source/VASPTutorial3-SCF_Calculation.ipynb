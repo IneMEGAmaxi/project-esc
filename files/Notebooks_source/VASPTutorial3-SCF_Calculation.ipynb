{
 "cells": [
  {
   "cell_type": "markdown",
   "metadata": {},
   "source": [
    "# VASP Tutorial 3 - SCF Calculation\n",
    "#### Levi Slap - april 2019"
   ]
  },
  {
   "cell_type": "markdown",
   "metadata": {},
   "source": [
    "## Introduction\n",
    "In the last tutorial we started our first calculation. In this tutorial we will look at the input and corresponding output. "
   ]
  },
  {
   "cell_type": "markdown",
   "metadata": {},
   "source": [
    "## Input\n",
    "We will look at a very simple system. Silicon, with only one atom in it unit cell. This is not the real structure of Si, which will be studied later in the tutorial. Take a look at all the <a href=\"./input_simpleSi/Input.zip\" download> input files</a>.\n",
    "\n",
    "The tags in the INCAR file indicate that our calculation will be a regular self-consistent field (SCF) calculation. In each iteration a new electronic density is calculated, using the previous one to define the effective potential, untill the energy difference between two consecutive iterations reaches EDIFF.\n",
    "The position of the elements are fixed and stored in the POSCAR file. "
   ]
  },
  {
   "cell_type": "markdown",
   "metadata": {},
   "source": [
    "## Output\n",
    "Our own *job_script* will create a file *out* which contains similar output as the OSZICAR and the possible errors that might occur. It is good practise to check the *out* file for errors and warnings. \n",
    "\n",
    "From the OUTCAR you can get a lot of information. At this stage we will only use a\n",
    "command to get the free energy of our system, type in: `grep ’free en’ OUTCAR`. (this command looks for a line containing the expression 'free en' in the OUTCAR file)\n",
    "This is the energy of system."
   ]
  },
  {
   "cell_type": "code",
   "execution_count": null,
   "metadata": {},
   "outputs": [],
   "source": []
  }
 ],
 "metadata": {
  "kernelspec": {
   "display_name": "Python 3",
   "language": "python",
   "name": "python3"
  },
  "language_info": {
   "codemirror_mode": {
    "name": "ipython",
    "version": 3
   },
   "file_extension": ".py",
   "mimetype": "text/x-python",
   "name": "python",
   "nbconvert_exporter": "python",
   "pygments_lexer": "ipython3",
   "version": "3.7.3"
  }
 },
 "nbformat": 4,
 "nbformat_minor": 4
}
