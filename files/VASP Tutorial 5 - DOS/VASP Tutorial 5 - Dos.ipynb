{
 "cells": [
  {
   "cell_type": "markdown",
   "metadata": {},
   "source": [
    "# VASP Tutorial 5 - DOS\n",
    "##### Levi Slap - april 2019"
   ]
  },
  {
   "cell_type": "markdown",
   "metadata": {},
   "source": [
    "## Introduction\n",
    "In this tutorial we will calculate the density of states (DOS) of diamond Si. "
   ]
  },
  {
   "cell_type": "markdown",
   "metadata": {},
   "source": [
    "## SCF\n",
    "Use the following <a href=\"./VASP Tutorial 5 - DOS/input/input.zip\" download> input files </a> to do an SCF calculation. For this make a new directory `mkdir scf1`."
   ]
  },
  {
   "cell_type": "markdown",
   "metadata": {},
   "source": [
    "## DOS\n",
    "After the SCF calculation make a new directory `dos`. Copy the POSCAR, POTCAR, KPOINTS, INCAR, job_script and CHGCAR from `scf1` into `dos`.\n",
    "We will need to make some changes to the input files. \n",
    "- Kpoints: change 11 11 11 in 22 22 22\n",
    "- INCAR: add ICHARG=11\n",
    "- INCAR: change IBRION = 0 to -5\n",
    "\n",
    "Now submit the calculation. "
   ]
  },
  {
   "cell_type": "markdown",
   "metadata": {},
   "source": [
    "## Visualisation\n",
    "We provided some <a href=\"VASP Tutorial 5 - DOS/Matlab/readDOS_Si.m\" download> Matlab scripts  </a> to visualize the DOS of diamond Si. Download the DOSCAR file using WINSCP and use the script. You will have to tweak the script if you want to viualise other DOS for different elements."
   ]
  },
  {
   "cell_type": "markdown",
   "metadata": {},
   "source": [
    "<div style=\"text-align: center\">\n",
    "    <img src=\"./VASP Tutorial 5 - DOS/DOS_diamond_Si.png\" width=700> <br>\n",
    "    Figure 1: The DOS of diamond Si.\n",
    "</div>"
   ]
  },
  {
   "cell_type": "markdown",
   "metadata": {},
   "source": [
    "## Interpretation\n",
    "Around the Fermi level (0 eV) we see no states. "
   ]
  }
 ],
 "metadata": {
  "kernelspec": {
   "display_name": "Python 3",
   "language": "python",
   "name": "python3"
  },
  "language_info": {
   "codemirror_mode": {
    "name": "ipython",
    "version": 3
   },
   "file_extension": ".py",
   "mimetype": "text/x-python",
   "name": "python",
   "nbconvert_exporter": "python",
   "pygments_lexer": "ipython3",
   "version": "3.7.1"
  }
 },
 "nbformat": 4,
 "nbformat_minor": 2
}
