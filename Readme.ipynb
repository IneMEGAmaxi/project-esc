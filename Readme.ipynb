{
 "cells": [
  {
   "cell_type": "markdown",
   "metadata": {},
   "source": [
    "# Readme\n",
    "#### Levi Slap - april 2019"
   ]
  },
  {
   "cell_type": "markdown",
   "metadata": {},
   "source": [
    "The files and tutorials provided should give the user a general overview on what calculations using DFT are and how to perform those calculation using the VASP software. \n",
    "\n",
    "- As a Dutch reader you can start with the <a href=\"./Theorie.pdf\" download> Theory </a>. This gives a general overview on DFT and the special approximations needed to perform calculations. The rest of the files are in English.\n",
    "\n",
    "- The <a href=\"./VASP Computer Setup.html\" download> VASP Computer Setup </a> gives you all the guide lines to get your computer ready to start the tutorials. "
   ]
  },
  {
   "cell_type": "markdown",
   "metadata": {},
   "source": [
    "After this you are ready for the tutorials. There are 6 tutorials: \n",
    "\n",
    "- The first tutorial walks you throw all the (<a href=\"./VASP Computer Setup.html\" download> Input & Output files </a>). \n",
    "- You are then introduced to the (<a href=\"./VASP Computer Setup.html\" download> SuperComputer </a>) where you will be running your calculations. \n",
    "- The (<a href=\"./VASP Computer Setup.html\" download> SCF </a>) calculations is the first calculation you will be running. \n",
    "- After this you will run a (<a href=\"./VASP Computer Setup.html\" download> Geometrical Optimalization </a>) to find the optimal parameters for the cell.\n",
    "- For the (<a href=\"./VASP Computer Setup.html\" download> DOS </a>) we will look at diamond Si.\n",
    "- In the last tutorial you will calculate the (<a href=\"./VASP Computer Setup.html\" download> Band Structure </a>) of diamond Si.\n",
    "\n",
    "All the nessecairy VASP input files are provided as well as Matlab scripts to visualize the DOS and Band Structure."
   ]
  },
  {
   "cell_type": "markdown",
   "metadata": {},
   "source": [
    "We hope you find our tutorials usefull. If you get stuck anywhere please don't hesitate to contact your supervisor!"
   ]
  },
  {
   "cell_type": "code",
   "execution_count": null,
   "metadata": {},
   "outputs": [],
   "source": []
  }
 ],
 "metadata": {
  "kernelspec": {
   "display_name": "Python 3",
   "language": "python",
   "name": "python3"
  },
  "language_info": {
   "codemirror_mode": {
    "name": "ipython",
    "version": 3
   },
   "file_extension": ".py",
   "mimetype": "text/x-python",
   "name": "python",
   "nbconvert_exporter": "python",
   "pygments_lexer": "ipython3",
   "version": "3.7.1"
  }
 },
 "nbformat": 4,
 "nbformat_minor": 2
}
