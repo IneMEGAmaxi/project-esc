{
 "cells": [
  {
   "cell_type": "markdown",
   "metadata": {},
   "source": [
    "# Setup your computer for VASP-calculation\n",
    "##### Levi Slap - april 2019"
   ]
  },
  {
   "cell_type": "markdown",
   "metadata": {},
   "source": [
    "## Introduction\n",
    "Before you can start with calculation using the VASP-package you will need to setup your\n",
    "computer and apply for an account to be able to calculate on the Flemish SuperComputers.\n",
    "This document will give some guidelines. This document is writen for Windows\n",
    "user, Mac and Linux user can skip most of the steps. To complete the steps in this\n",
    "document a internet connection is required and it should take between 1 and 2h."
   ]
  },
  {
   "cell_type": "markdown",
   "metadata": {},
   "source": [
    "## VPN \n",
    "To acces the SuperComputers when you are not at the univeristy you will have to\n",
    "setup a VPN connection to the UA-network. For this you can follow the document:\n",
    "CiscoAnyconnectClient_Win_Nl."
   ]
  },
  {
   "cell_type": "markdown",
   "metadata": {},
   "source": [
    "## Putty - VSC account - WinSCP\n",
    "The Flemish SuperComputers run on Linux servers. You will need to apply for a\n",
    "VSC account and install Putty to connect to these servers. Follow the file: https://www.vscentrum.be/assets/1121 and do the steps on pages: 21-25. This will give you\n",
    "acces to the Flemish SuperComputers.\n",
    "\n",
    "These documents are fairly old, you will need to chose *RSA* as you generate the keys (instead\n",
    "of *SSH-2 RSA*). For Putty use the following host name: *login.hpc.uantwerpen.be*.\n",
    "This will give you acces to hopper.\n",
    "\n",
    "To transfer files to and from the SuperComputers to your own computer you can use WinSCP, on the same pdf\n",
    "pages: 34-36. And again use host name: *login.hpc.uantwerpen.be*.\n",
    "\n",
    "After you have run through this steps you will get an email to confirm you account\n",
    "and you’ll have to state a reason for you application. After this it might take 15-30min\n",
    "for you public key to be ready for you to log in using Putty.\n",
    "\n",
    "To be able to acces the VASP software you will need to join the *avasp* group, as well as\n",
    "the *aematcmt*. You can do this via the VSC website.\n",
    "\n",
    "After this all is complete you can login using Putty."
   ]
  },
  {
   "cell_type": "markdown",
   "metadata": {},
   "source": [
    "## Linux\n",
    "The VSC servers run on Linux. To navigate you will need a basic understanding of Linux.\n",
    "The following link can be a good start: http://linuxcommand.org/lc3_learning_the_shell.php ."
   ]
  },
  {
   "cell_type": "markdown",
   "metadata": {},
   "source": [
    "## VESTA\n",
    "VASP is a software package to do calculations on solid state structures. To visualize the structures VESTA can be used. http://www.jp-minerals.org/vesta/en/\n"
   ]
  },
  {
   "cell_type": "markdown",
   "metadata": {},
   "source": [
    "## Addition to test git push\n",
    "\n",
    "This is a minor addition to see if I can git push the changes -- Marnik"
   ]
  }
 ],
 "metadata": {
  "kernelspec": {
   "display_name": "Python 3",
   "language": "python",
   "name": "python3"
  },
  "language_info": {
   "codemirror_mode": {
    "name": "ipython",
    "version": 3
   },
   "file_extension": ".py",
   "mimetype": "text/x-python",
   "name": "python",
   "nbconvert_exporter": "python",
   "pygments_lexer": "ipython3",
   "version": "3.7.3"
  }
 },
 "nbformat": 4,
 "nbformat_minor": 2
}
