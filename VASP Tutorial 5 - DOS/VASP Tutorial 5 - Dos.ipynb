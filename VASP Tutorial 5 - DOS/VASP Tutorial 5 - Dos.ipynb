{
 "cells": [
  {
   "cell_type": "markdown",
   "metadata": {},
   "source": [
    "# VASP Tutorial 5 - DOS\n",
    "##### Levi Slap - april 2019"
   ]
  },
  {
   "cell_type": "markdown",
   "metadata": {},
   "source": [
    "## Introduction\n",
    "In this tutorial we will use the optimised or relaxed structure (calculated in the previous tutorial) and calculate the density of states (DOS). "
   ]
  },
  {
   "cell_type": "markdown",
   "metadata": {},
   "source": [
    "## SCF\n",
    "We will make a new directory *scf1* and copy the CONTCAR form the directory *relax* and copy the INCAR, POTCAR, KPOINTS and job_script from the *scf* directory. Now start a calculation. \n",
    "\n",
    "\n",
    "\n",
    "To acces the SuperComputers when you are not at the univeristy you will have to\n",
    "setup a VPN connection to the UA-network. For this you can follow the document: <a href=\"CiscoAnyconnectClient_Win_Nl.pdf\" download> VPN client</a>."
   ]
  },
  {
   "cell_type": "markdown",
   "metadata": {},
   "source": [
    "## DOS\n",
    "After the SCF calculation make a new directory *dos*. Copy the POSCAR, POTCAR, KPOINTS, INCAR, job_script and CHRCAR from *scf1* into *dos*.\n",
    "We will need to make some changes to the input files. \n",
    "- Kpoints: change 11 11 11 in 22 22 22\n",
    "- INCAR: add ICHARG=11\n",
    "\n",
    "Now submit the calculation. "
   ]
  },
  {
   "cell_type": "markdown",
   "metadata": {},
   "source": []
  }
 ],
 "metadata": {
  "kernelspec": {
   "display_name": "Python 3",
   "language": "python",
   "name": "python3"
  },
  "language_info": {
   "codemirror_mode": {
    "name": "ipython",
    "version": 3
   },
   "file_extension": ".py",
   "mimetype": "text/x-python",
   "name": "python",
   "nbconvert_exporter": "python",
   "pygments_lexer": "ipython3",
   "version": "3.7.1"
  }
 },
 "nbformat": 4,
 "nbformat_minor": 2
}
