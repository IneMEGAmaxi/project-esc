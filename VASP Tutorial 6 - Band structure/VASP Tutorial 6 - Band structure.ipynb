{
 "cells": [
  {
   "cell_type": "markdown",
   "metadata": {},
   "source": [
    "# VASP Tutorial 6 - Band structure"
   ]
  },
  {
   "cell_type": "markdown",
   "metadata": {},
   "source": [
    "```\n",
    "kpoints from kgen\n",
    "kpoints for bandstructure L-G-X-U K-G\n",
    "10\n",
    "line\n",
    "reciprocal\n",
    "0.50000 0.50000 0.50000 1\n",
    "0.00000 0.00000 0.00000 1\n",
    "0.00000 0.00000 0.00000 1\n",
    "0.00000 0.50000 0.50000 1\n",
    "0.00000 0.50000 0.50000 1\n",
    "0.25000 0.62500 0.62500 1\n",
    "0.37500 0.7500 0.37500 1\n",
    "0.00000 0.00000 0.00000 1\n",
    "```"
   ]
  },
  {
   "cell_type": "code",
   "execution_count": null,
   "metadata": {},
   "outputs": [],
   "source": []
  }
 ],
 "metadata": {
  "kernelspec": {
   "display_name": "Python 3",
   "language": "python",
   "name": "python3"
  },
  "language_info": {
   "codemirror_mode": {
    "name": "ipython",
    "version": 3
   },
   "file_extension": ".py",
   "mimetype": "text/x-python",
   "name": "python",
   "nbconvert_exporter": "python",
   "pygments_lexer": "ipython3",
   "version": "3.7.1"
  }
 },
 "nbformat": 4,
 "nbformat_minor": 2
}
