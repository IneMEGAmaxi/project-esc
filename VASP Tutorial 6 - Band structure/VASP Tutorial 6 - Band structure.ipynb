{
 "cells": [
  {
   "cell_type": "markdown",
   "metadata": {},
   "source": [
    "# VASP Tutorial 6 - Band structure\n",
    "##### Levi Slap - april 2019"
   ]
  },
  {
   "cell_type": "markdown",
   "metadata": {},
   "source": [
    "## Introduction\n",
    "In this tutorial we will calculate the Band Structure of diamond Si. "
   ]
  },
  {
   "cell_type": "markdown",
   "metadata": {},
   "source": [
    "## Band Structure\n",
    "We will use the output/input from the directory `scf1`. Make a new directory `band`and copy the POSCAR, POTCAR, KPOINTS, INCAR, job_script and CHGCAR from `scf1` into `band`.\n",
    "We will need to make some changes to the input files. \n",
    "- INCAR: add ICHARG=11\n"
   ]
  },
  {
   "cell_type": "markdown",
   "metadata": {},
   "source": [
    "- And the KPOINTS file:\n",
    "\n",
    "```\n",
    "kpoints for bandstructure L-G-X-U K-G\n",
    "10\n",
    "line\n",
    "reciprocal\n",
    "0.50000 0.50000 0.50000 1\n",
    "0.00000 0.00000 0.00000 1\n",
    "0.00000 0.00000 0.00000 1\n",
    "0.00000 0.50000 0.50000 1\n",
    "0.00000 0.50000 0.50000 1\n",
    "0.25000 0.62500 0.62500 1\n",
    "0.37500 0.75000 0.37500 1\n",
    "0.00000 0.00000 0.00000 1\n",
    "```\n",
    "\n",
    "Now start the calculation. "
   ]
  },
  {
   "cell_type": "markdown",
   "metadata": {},
   "source": [
    "## Visualisation\n",
    "We provided some Matlab scripts (<a href=\"./Matlab/Matlab.zip\" download> input files </a>) to visualize the Band Structure of diamond Si. Download the EIGENVAL file using WINSCP and use the script *Bandstructure_Si.m*. You will have to tweak the script if you want to viualise other Band Structures for different elements."
   ]
  },
  {
   "cell_type": "markdown",
   "metadata": {},
   "source": [
    "<div style=\"text-align: center\">\n",
    "    <img src=\"Band_Structure_diamond_Si.png\" width=700> <br>\n",
    "    Figure 1: The Band Structure of diamond Si.\n",
    "</div>"
   ]
  },
  {
   "cell_type": "markdown",
   "metadata": {},
   "source": [
    "## Interpretation\n",
    "You can clearly see the bandgap in the above Band Structure. This was to be expected because diamond Si is a metal. "
   ]
  },
  {
   "cell_type": "code",
   "execution_count": null,
   "metadata": {},
   "outputs": [],
   "source": []
  }
 ],
 "metadata": {
  "kernelspec": {
   "display_name": "Python 3",
   "language": "python",
   "name": "python3"
  },
  "language_info": {
   "codemirror_mode": {
    "name": "ipython",
    "version": 3
   },
   "file_extension": ".py",
   "mimetype": "text/x-python",
   "name": "python",
   "nbconvert_exporter": "python",
   "pygments_lexer": "ipython3",
   "version": "3.7.1"
  }
 },
 "nbformat": 4,
 "nbformat_minor": 2
}
