{
 "cells": [
  {
   "cell_type": "markdown",
   "metadata": {},
   "source": [
    "# Overview\n",
    "#### Levi Slap - april 2019"
   ]
  },
  {
   "cell_type": "markdown",
   "metadata": {},
   "source": [
    "The files and tutorials provided should give the user a general overview on what calculations using DFT are and how to perform those calculation using the VASP software. \n",
    "\n",
    "- As a Dutch reader you can start with the <a href=\"./files/Theorie.pdf\" target=\"_blank\"> Theory </a>. This gives a general overview on DFT and the special approximations needed to perform calculations. The rest of the files are in English.\n",
    "\n",
    "- The <a href=\"./files/VASP_Computer_Setup.html\" target=\"_blank\"> VASP Computer Setup </a> gives you all the guide lines to get your computer ready to start the tutorials. "
   ]
  },
  {
   "cell_type": "markdown",
   "metadata": {},
   "source": [
    "After this you are ready for the tutorials. There are 6 tutorials: \n",
    "\n",
    "- <a href=\"./files/VASP_Tutorial_1_-_Input_&_Output.html\" target=\"_blank\"> VASP Tutorial 1 - Input & Output files </a>: The first tutorial walks you through all the input & output files. \n",
    "- <a href=\"./files/VASP_Tutorial_2_-_SuperComputer_&_Jobscript.html\" target=\"_blank\"> VASP Tutorial 2 - SuperComputer & Jobscript </a>: You are then introduced to the SuperComputer where you will be running your calculations. \n",
    "- <a href=\"./files/VASP_Tutorial_3_-_SCF_Calculation.html\" target=\"_blank\"> VASP Tutorial 3 - SCF Calculation </a>: An SCF is the first calculation you will be running. \n",
    "- <a href=\"./files/VASP_Tutorial_4_-_Geometrical_Optimalization.html\" target=\"_blank\"> VASP Tutorial 4 - Geometrical Optimalization </a>: After this you will run a relaxation to find the optimal parameters for the cell.\n",
    "- <a href=\"./files/VASP_Tutorial_5_-_Dos.html\" target=\"_blank\"> VASP Tutorial 5 - Dos </a>: For the DOS we will look at diamond Si.\n",
    "- <a href=\"./files/VASP_Tutorial_6_-_Band_Structure.html\" target=\"_blank\"> VASP Tutorial 6 - Band Structure </a>: In the last tutorial you will calculate the Band Structure of diamond Si.\n",
    "\n",
    "All the nessecairy VASP input files are provided as well as Matlab scripts to visualize the DOS and Band Structure."
   ]
  },
  {
   "cell_type": "markdown",
   "metadata": {},
   "source": [
    "We hope you find our tutorials usefull. If you get stuck anywhere please don't hesitate to contact your supervisor!"
   ]
  }
 ],
 "metadata": {
  "kernelspec": {
   "display_name": "Python 3",
   "language": "python",
   "name": "python3"
  },
  "language_info": {
   "codemirror_mode": {
    "name": "ipython",
    "version": 3
   },
   "file_extension": ".py",
   "mimetype": "text/x-python",
   "name": "python",
   "nbconvert_exporter": "python",
   "pygments_lexer": "ipython3",
   "version": "3.7.2"
  }
 },
 "nbformat": 4,
 "nbformat_minor": 2
}
