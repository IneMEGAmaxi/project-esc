{
 "cells": [
  {
   "cell_type": "markdown",
   "metadata": {},
   "source": [
    "# VASP Tutorial 3 - SCF Calculation\n",
    "#### Levi Slap - april 2019"
   ]
  },
  {
   "cell_type": "markdown",
   "metadata": {},
   "source": [
    "## Introduction\n",
    "In the last tutorial we started our first calculation. In this tutorial we will look at the input and corresponding output. "
   ]
  },
  {
   "cell_type": "markdown",
   "metadata": {},
   "source": [
    "## Input\n",
    "We will look at a very simple system. FCC silicium, this has only one atom in it unit cell. Take a look at all the input files: POSCAR, KPOINTS, INCAR, POTCAR and job_script. \n",
    "\n",
    "Looking at the INCAR we will see that our calculations will be a number of electronic steps until EDIFF is reached. The position of our element is fixed and stored in the POSCAR file. This is called a self-consistent-field (SCF) calculation. "
   ]
  },
  {
   "cell_type": "markdown",
   "metadata": {},
   "source": [
    "## Output\n",
    "Our own *job_script* will create a file *out* which contains similar output as the OSZICAR and the possible errors that might occur. It is good practise to check the *out* file for errors. \n",
    "\n",
    "From the OUTCAR you can get a lot of information. At this stage we will only use a\n",
    "command to get the free energy of our system, type in: grep ’free en’ OUTCAR. This will the energy of system."
   ]
  },
  {
   "cell_type": "code",
   "execution_count": null,
   "metadata": {},
   "outputs": [],
   "source": []
  }
 ],
 "metadata": {
  "kernelspec": {
   "display_name": "Python 3",
   "language": "python",
   "name": "python3"
  },
  "language_info": {
   "codemirror_mode": {
    "name": "ipython",
    "version": 3
   },
   "file_extension": ".py",
   "mimetype": "text/x-python",
   "name": "python",
   "nbconvert_exporter": "python",
   "pygments_lexer": "ipython3",
   "version": "3.7.1"
  }
 },
 "nbformat": 4,
 "nbformat_minor": 2
}
