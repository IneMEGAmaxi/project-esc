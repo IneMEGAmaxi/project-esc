{
 "cells": [
  {
   "cell_type": "markdown",
   "metadata": {},
   "source": [
    "# VASP Tutorial 2 - SuperComputer & Jobscript\n",
    "#### Levi Slap - april 2019"
   ]
  },
  {
   "cell_type": "markdown",
   "metadata": {},
   "source": [
    "## Introduction\n",
    "In this tutorial we will give a general overview of the SuperComputer that we will be using and the jobscript needed to do a calculation. "
   ]
  },
  {
   "cell_type": "markdown",
   "metadata": {},
   "source": [
    "## Working with a SuperComputer\n",
    "This document will give a general overview, more info can be found on: https://www.vscentrum.be/assets/1121. For the rest of the tutorial you will need to be loged in, on Windows this can be done throw Putty."
   ]
  },
  {
   "cell_type": "markdown",
   "metadata": {},
   "source": [
    "### Architecture\n",
    "The SuperComputer has a specific architecture which is depicted in figure 1. Using\n",
    "Putty you will have a terminal that gives you acces to the login nodes. For all the\n",
    "calculations you will have to navigate to the scratch directory. This can be done by\n",
    "typing *cd /scratch/antwerpen/20#/vsc20###*, with the # replaced by your personal\n",
    "numbers."
   ]
  },
  {
   "cell_type": "markdown",
   "metadata": {},
   "source": [
    "![title](Architecture.png)\n",
    "Figure 1: The architecture of the SuperComputer"
   ]
  },
  {
   "cell_type": "markdown",
   "metadata": {},
   "source": [
    "### Jobscript\n",
    "To start any calculation we will need a job script which tells the SuperComputer how many nodes to select and how long to run the job."
   ]
  },
  {
   "cell_type": "markdown",
   "metadata": {},
   "source": [
    "We will be using the following jobscript during these tutorials. \n",
    "```\n",
    "#!/bin/bash\n",
    "#PBS -N Test_Name  \n",
    "##PBS -q batch\n",
    "#PBS -l nodes=4:ppn=28\n",
    "#PBS -l walltime=72:00:00\n",
    "\n",
    "export LD_BIND_NOW=1\n",
    "\n",
    "module purge\n",
    "module load leibniz/2016b\n",
    "module load leibniz/supported\n",
    "module load VASP/5.4.4-intel-2016b-vtst-173\n",
    "\n",
    "cd $PBS_O_WORKDIR\n",
    "\n",
    "echo \"Job started:\" /bin/date >> out 2>&1\n",
    "mpirun -genv LD_BIND_NOW=1 vasp_std >> out 2>&1\n",
    "echo \"Job finished:\" /bin/date >> out 2>&1\n",
    "\n",
    "grep Elapsed OUTCAR >> out`\n",
    "```\n",
    "- You can change the second line: *Test_Name* can be modified. \n",
    "- On the 4th line you can modify the number of nodes. \n",
    "- On the 5th line you can change the walltime, you can choose\n",
    "from 1h, 24h and 72h."
   ]
  },
  {
   "cell_type": "markdown",
   "metadata": {},
   "source": [
    "## Your first calculation\n",
    "Now you are ready to perform your first calculations. Navigate to your scratch directory.\n",
    "Make a directory test1 (commando: *mkdir test1*) and go into this directory (commando:\n",
    "*cd test1*). Using WINSCP copy into this directory the files: <a href=\"INPUT.zip\" download> Input files</a>. <a href=\"INCAR\" download> Input files</a>"
   ]
  },
  {
   "cell_type": "markdown",
   "metadata": {},
   "source": [
    "Then use the commando: *qsub job_script*.\n",
    "\n",
    "Congratulations you have submitted your first job!"
   ]
  },
  {
   "cell_type": "markdown",
   "metadata": {},
   "source": [
    "### Queuing\n",
    "Not all calculations can run at the same time, so most probably your job request will be queuing. Type in qstat and you will see all the jobs that you have submitted. You can see the job ID, name, user, Time Use, S (=status, Q=queuing, R=running and C=completed) and the last you can see is in which queu your calculating is waiting.\n",
    "\n",
    "No you will have to wait until your job starts running and eventually finishes."
   ]
  },
  {
   "cell_type": "markdown",
   "metadata": {},
   "source": [
    "### Walltime\n",
    "If your calculations takes longer then the planned walltime you will be notified via email\n",
    "and your job will stop running. Afterwards you can re-submit the same job to finish the\n",
    "calculation.\n",
    "Over time you will create a feeling for how long your job will need to finish."
   ]
  }
 ],
 "metadata": {
  "kernelspec": {
   "display_name": "Python 3",
   "language": "python",
   "name": "python3"
  },
  "language_info": {
   "codemirror_mode": {
    "name": "ipython",
    "version": 3
   },
   "file_extension": ".py",
   "mimetype": "text/x-python",
   "name": "python",
   "nbconvert_exporter": "python",
   "pygments_lexer": "ipython3",
   "version": "3.7.1"
  }
 },
 "nbformat": 4,
 "nbformat_minor": 2
}
